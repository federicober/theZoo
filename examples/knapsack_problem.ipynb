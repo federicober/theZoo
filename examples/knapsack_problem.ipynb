{
 "cells": [
  {
   "cell_type": "code",
   "execution_count": 1,
   "metadata": {
    "collapsed": true
   },
   "outputs": [],
   "source": [
    "%matplotlib inline\n",
    "from genetic.ecosystem import Ecosystem, easy_individual\n",
    "\n",
    "import numpy as np\n",
    "import matplotlib.pyplot as plt"
   ]
  },
  {
   "cell_type": "code",
   "execution_count": 2,
   "metadata": {},
   "outputs": [],
   "source": [
    "def get_random_articles(n_articles):\n",
    "    max_weight = 100\n",
    "    max_value = 100\n",
    "    return max_weight * np.random.rand(n_articles), max_value * np.random.rand(n_articles)\n",
    "\n",
    "\n",
    "def get_capacity(weights):\n",
    "    return weights.sum() / 3"
   ]
  },
  {
   "cell_type": "code",
   "execution_count": 3,
   "metadata": {},
   "outputs": [],
   "source": [
    "n_articles = 100\n",
    "\n",
    "\n",
    "weights, values = get_random_articles(n_articles)\n",
    "sack_capacity = get_capacity(weights)\n",
    "\n",
    "model = easy_individual([bool] * n_articles)\n",
    "\n",
    "\n",
    "def fitness_func(articles_mask):\n",
    "    if sack_capacity <= weights[articles_mask].sum():\n",
    "        return values[articles_mask].sum()\n",
    "    return 0"
   ]
  },
  {
   "cell_type": "code",
   "execution_count": 4,
   "metadata": {},
   "outputs": [
    {
     "name": "stdout",
     "output_type": "stream",
     "text": [
      "Generation number 0\rGeneration number 1\rGeneration number 2\rGeneration number 3\rGeneration number 4\rGeneration number 5\rGeneration number 6\rGeneration number 7\rGeneration number 8\rGeneration number 9\rGeneration number 10\rGeneration number 11\rGeneration number 12\rGeneration number 13\rGeneration number 14\rGeneration number 15\rGeneration number 16\rGeneration number 17\rGeneration number 18\rGeneration number 19\rGeneration number 20\rGeneration number 21\rGeneration number 22\rGeneration number 23\rGeneration number 24\r"
     ]
    },
    {
     "name": "stdout",
     "output_type": "stream",
     "text": [
      "Generation number 25\rGeneration number 26\rGeneration number 27\rGeneration number 28\rGeneration number 29\r1702.957690410769\n33.33333333333333\n"
     ]
    },
    {
     "data": {
      "text/plain": [
       "[<matplotlib.lines.Line2D at 0x1fdc40c4ba8>]"
      ]
     },
     "execution_count": 4,
     "metadata": {},
     "output_type": "execute_result"
    },
    {
     "data": {
      "image/png": "[encoded data removed]",
      "text/plain": [
       "<Figure size 432x288 with 1 Axes>"
      ]
     },
     "metadata": {},
     "output_type": "display_data"
    }
   ],
   "source": [
    "n_individuals = 20\n",
    "\n",
    "eco = Ecosystem(model_genome=model,\n",
    "                n_individuals=n_individuals,\n",
    "                fitness_function=fitness_func,\n",
    "                mutation_probability=0.2,\n",
    "                elitism=1)\n",
    "\n",
    "eco.nth_generation(30)\n",
    "\n",
    "print(\"Expected value with no optimization=\", sack_capacity * values.sum() / weights.sum())\n",
    "print(eco.history)\n",
    "\n",
    "plt.plot(list(eco.history.max()))"
   ]
  },
  {
   "cell_type": "code",
   "execution_count": 6,
   "metadata": {},
   "outputs": [],
   "source": []
  },
  {
   "cell_type": "code",
   "execution_count": null,
   "metadata": {},
   "outputs": [],
   "source": []
  }
 ],
 "metadata": {
  "kernelspec": {
   "display_name": "Python 2",
   "language": "python",
   "name": "python2"
  },
  "language_info": {
   "codemirror_mode": {
    "name": "ipython",
    "version": 2
   },
   "file_extension": ".py",
   "mimetype": "text/x-python",
   "name": "python",
   "nbconvert_exporter": "python",
   "pygments_lexer": "ipython2",
   "version": "2.7.6"
  }
 },
 "nbformat": 4,
 "nbformat_minor": 0
}
